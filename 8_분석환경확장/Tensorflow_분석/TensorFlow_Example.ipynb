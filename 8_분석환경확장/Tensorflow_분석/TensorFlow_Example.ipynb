{
 "cells": [
  {
   "cell_type": "code",
   "execution_count": 20,
   "id": "signal-supervision",
   "metadata": {},
   "outputs": [],
   "source": [
    "###그림 8.21 라이브러리 임포트 및 학습 데이터 로드##################################################################\n",
    "\n",
    "import tensorflow as tf\n",
    "import pandas as pd\n",
    "import matplotlib.pyplot as plt\n",
    "\n",
    "from time import time\n",
    "from tensorflow.python.keras.callbacks import TensorBoard\n",
    "from tensorflow import keras\n",
    "from tensorflow.keras.models import Sequential\n",
    "from tensorflow.keras.layers import Dense, Dropout\n",
    "from sklearn.preprocessing import StandardScaler\n",
    "from sklearn.model_selection import train_test_split\n",
    "from sklearn.metrics import roc_curve, roc_auc_score, auc\n",
    "from keras.utils import to_categorical\n",
    "\n",
    "df = pd.read_csv('D:/training_data/CarDrivingIncidentInfo.csv')"
   ]
  },
  {
   "cell_type": "code",
   "execution_count": 21,
   "id": "loose-relay",
   "metadata": {},
   "outputs": [
    {
     "name": "stderr",
     "output_type": "stream",
     "text": [
      "D:\\Anaconda3\\envs\\py35\\lib\\site-packages\\sklearn\\utils\\validation.py:590: DataConversionWarning: Data with input dtype int64 was converted to float64 by StandardScaler.\n",
      "  warnings.warn(msg, DataConversionWarning)\n",
      "D:\\Anaconda3\\envs\\py35\\lib\\site-packages\\sklearn\\utils\\validation.py:590: DataConversionWarning: Data with input dtype int64 was converted to float64 by StandardScaler.\n",
      "  warnings.warn(msg, DataConversionWarning)\n",
      "D:\\Anaconda3\\envs\\py35\\lib\\site-packages\\sklearn\\utils\\validation.py:590: DataConversionWarning: Data with input dtype int64 was converted to float64 by StandardScaler.\n",
      "  warnings.warn(msg, DataConversionWarning)\n"
     ]
    }
   ],
   "source": [
    "###그림 8.22 학습 데이터 전처리##################################################################\n",
    "\n",
    "X = df.iloc[:, :-1].values\n",
    "Y = df.iloc[:, -1].values\n",
    "\n",
    "X_train, X_test, Y_train, Y_test = train_test_split(X, Y, test_size=0.2, random_state=1)\n",
    "\n",
    "Y_train = to_categorical(Y_train)\n",
    "Y_test = to_categorical(Y_test)\n",
    "\n",
    "sc = StandardScaler()\n",
    "X_train = sc.fit_transform(X_train)\n",
    "X_test = sc.transform(X_test)"
   ]
  },
  {
   "cell_type": "code",
   "execution_count": 22,
   "id": "objective-nowhere",
   "metadata": {},
   "outputs": [
    {
     "name": "stdout",
     "output_type": "stream",
     "text": [
      "_________________________________________________________________\n",
      "Layer (type)                 Output Shape              Param #   \n",
      "=================================================================\n",
      "dense_8 (Dense)              (None, 10)                110       \n",
      "_________________________________________________________________\n",
      "dense_9 (Dense)              (None, 20)                220       \n",
      "_________________________________________________________________\n",
      "dropout_2 (Dropout)          (None, 20)                0         \n",
      "_________________________________________________________________\n",
      "dense_10 (Dense)             (None, 10)                210       \n",
      "_________________________________________________________________\n",
      "dense_11 (Dense)             (None, 3)                 33        \n",
      "=================================================================\n",
      "Total params: 573\n",
      "Trainable params: 573\n",
      "Non-trainable params: 0\n",
      "_________________________________________________________________\n"
     ]
    }
   ],
   "source": [
    "###그림 8.23 DNN 모델 구성 및 요약 정보 출력##################################################################\n",
    "\n",
    "model = Sequential([\n",
    "    Dense(10, input_dim=10, activation='relu'),\n",
    "    Dense(20, activation='relu'),\n",
    "    Dropout(0.25),\n",
    "    Dense(10, activation='relu'),\n",
    "    Dense(3, activation='softmax')\n",
    "])\n",
    "model.compile(optimizer='adam', loss='categorical_crossentropy', metrics=['accuracy'])\n",
    "model.summary()"
   ]
  },
  {
   "cell_type": "code",
   "execution_count": 23,
   "id": "subjective-today",
   "metadata": {},
   "outputs": [
    {
     "name": "stdout",
     "output_type": "stream",
     "text": [
      "Train on 160000 samples, validate on 40000 samples\n",
      "Epoch 1/50\n",
      "160000/160000 [==============================] - 1s 4us/step - loss: 1.0135 - acc: 0.4305 - val_loss: 0.8767 - val_acc: 0.5426\n",
      "Epoch 2/50\n",
      "160000/160000 [==============================] - 0s 2us/step - loss: 0.7448 - acc: 0.6342 - val_loss: 0.5157 - val_acc: 0.7867\n",
      "Epoch 3/50\n",
      "160000/160000 [==============================] - 0s 2us/step - loss: 0.4277 - acc: 0.8246 - val_loss: 0.2552 - val_acc: 0.9234\n",
      "Epoch 4/50\n",
      "160000/160000 [==============================] - 0s 2us/step - loss: 0.2529 - acc: 0.9045 - val_loss: 0.1428 - val_acc: 0.9607\n",
      "Epoch 5/50\n",
      "160000/160000 [==============================] - 0s 2us/step - loss: 0.1666 - acc: 0.9427 - val_loss: 0.1016 - val_acc: 0.9703\n",
      "Epoch 6/50\n",
      "160000/160000 [==============================] - 0s 2us/step - loss: 0.1251 - acc: 0.9580 - val_loss: 0.0782 - val_acc: 0.9780\n",
      "Epoch 7/50\n",
      "160000/160000 [==============================] - 0s 2us/step - loss: 0.1009 - acc: 0.9662 - val_loss: 0.0628 - val_acc: 0.9813\n",
      "Epoch 8/50\n",
      "160000/160000 [==============================] - 0s 2us/step - loss: 0.0827 - acc: 0.9727 - val_loss: 0.0521 - val_acc: 0.9835\n",
      "Epoch 9/50\n",
      "160000/160000 [==============================] - 0s 2us/step - loss: 0.0712 - acc: 0.9757 - val_loss: 0.0438 - val_acc: 0.9865\n",
      "Epoch 10/50\n",
      "160000/160000 [==============================] - 0s 2us/step - loss: 0.0610 - acc: 0.9799 - val_loss: 0.0377 - val_acc: 0.9885\n",
      "Epoch 11/50\n",
      "160000/160000 [==============================] - 0s 2us/step - loss: 0.0541 - acc: 0.9822 - val_loss: 0.0339 - val_acc: 0.9894\n",
      "Epoch 12/50\n",
      "160000/160000 [==============================] - 0s 2us/step - loss: 0.0490 - acc: 0.9838 - val_loss: 0.0313 - val_acc: 0.9894\n",
      "Epoch 13/50\n",
      "160000/160000 [==============================] - 0s 2us/step - loss: 0.0457 - acc: 0.9847 - val_loss: 0.0298 - val_acc: 0.9898\n",
      "Epoch 14/50\n",
      "160000/160000 [==============================] - 0s 2us/step - loss: 0.0429 - acc: 0.9853 - val_loss: 0.0287 - val_acc: 0.9901\n",
      "Epoch 15/50\n",
      "160000/160000 [==============================] - 0s 2us/step - loss: 0.0404 - acc: 0.9862 - val_loss: 0.0279 - val_acc: 0.9902\n",
      "Epoch 16/50\n",
      "160000/160000 [==============================] - 0s 2us/step - loss: 0.0390 - acc: 0.9861 - val_loss: 0.0270 - val_acc: 0.9903\n",
      "Epoch 17/50\n",
      "160000/160000 [==============================] - 0s 2us/step - loss: 0.0378 - acc: 0.9866 - val_loss: 0.0263 - val_acc: 0.9907\n",
      "Epoch 18/50\n",
      "160000/160000 [==============================] - 0s 2us/step - loss: 0.0365 - acc: 0.9867 - val_loss: 0.0254 - val_acc: 0.9904\n",
      "Epoch 19/50\n",
      "160000/160000 [==============================] - 0s 3us/step - loss: 0.0349 - acc: 0.9871 - val_loss: 0.0246 - val_acc: 0.9905\n",
      "Epoch 20/50\n",
      "160000/160000 [==============================] - 0s 2us/step - loss: 0.0340 - acc: 0.9873 - val_loss: 0.0236 - val_acc: 0.9906\n",
      "Epoch 21/50\n",
      "160000/160000 [==============================] - 0s 2us/step - loss: 0.0331 - acc: 0.9874 - val_loss: 0.0223 - val_acc: 0.9915\n",
      "Epoch 22/50\n",
      "160000/160000 [==============================] - 0s 2us/step - loss: 0.0309 - acc: 0.9882 - val_loss: 0.0210 - val_acc: 0.9921\n",
      "Epoch 23/50\n",
      "160000/160000 [==============================] - 0s 3us/step - loss: 0.0294 - acc: 0.9891 - val_loss: 0.0191 - val_acc: 0.9926\n",
      "Epoch 24/50\n",
      "160000/160000 [==============================] - 0s 2us/step - loss: 0.0275 - acc: 0.9894 - val_loss: 0.0174 - val_acc: 0.9930\n",
      "Epoch 25/50\n",
      "160000/160000 [==============================] - 0s 2us/step - loss: 0.0249 - acc: 0.9902 - val_loss: 0.0154 - val_acc: 0.9934\n",
      "Epoch 26/50\n",
      "160000/160000 [==============================] - 0s 2us/step - loss: 0.0233 - acc: 0.9910 - val_loss: 0.0133 - val_acc: 0.9946\n",
      "Epoch 27/50\n",
      "160000/160000 [==============================] - 0s 2us/step - loss: 0.0207 - acc: 0.9924 - val_loss: 0.0111 - val_acc: 0.9964\n",
      "Epoch 28/50\n",
      "160000/160000 [==============================] - 0s 2us/step - loss: 0.0181 - acc: 0.9931 - val_loss: 0.0085 - val_acc: 0.9973\n",
      "Epoch 29/50\n",
      "160000/160000 [==============================] - 0s 2us/step - loss: 0.0158 - acc: 0.9945 - val_loss: 0.0067 - val_acc: 0.9973\n",
      "Epoch 30/50\n",
      "160000/160000 [==============================] - 0s 2us/step - loss: 0.0137 - acc: 0.9953 - val_loss: 0.0052 - val_acc: 0.9986\n",
      "Epoch 31/50\n",
      "160000/160000 [==============================] - 0s 2us/step - loss: 0.0123 - acc: 0.9957 - val_loss: 0.0040 - val_acc: 0.9988\n",
      "Epoch 32/50\n",
      "160000/160000 [==============================] - 0s 2us/step - loss: 0.0112 - acc: 0.9965 - val_loss: 0.0032 - val_acc: 0.9989\n",
      "Epoch 33/50\n",
      "160000/160000 [==============================] - 0s 2us/step - loss: 0.0102 - acc: 0.9966 - val_loss: 0.0025 - val_acc: 0.9997\n",
      "Epoch 34/50\n",
      "160000/160000 [==============================] - 0s 2us/step - loss: 0.0093 - acc: 0.9971 - val_loss: 0.0021 - val_acc: 0.9997\n",
      "Epoch 35/50\n",
      "160000/160000 [==============================] - 0s 2us/step - loss: 0.0087 - acc: 0.9973 - val_loss: 0.0017 - val_acc: 0.9997\n",
      "Epoch 36/50\n",
      "160000/160000 [==============================] - 0s 2us/step - loss: 0.0078 - acc: 0.9977 - val_loss: 0.0014 - val_acc: 0.9997\n",
      "Epoch 37/50\n",
      "160000/160000 [==============================] - 0s 2us/step - loss: 0.0080 - acc: 0.9977 - val_loss: 0.0013 - val_acc: 0.9997\n",
      "Epoch 38/50\n",
      "160000/160000 [==============================] - 0s 2us/step - loss: 0.0071 - acc: 0.9978 - val_loss: 0.0011 - val_acc: 0.9998\n",
      "Epoch 39/50\n",
      "160000/160000 [==============================] - 0s 2us/step - loss: 0.0067 - acc: 0.9980 - val_loss: 9.3812e-04 - val_acc: 0.9998\n",
      "Epoch 40/50\n",
      "160000/160000 [==============================] - 0s 2us/step - loss: 0.0065 - acc: 0.9981 - val_loss: 8.6858e-04 - val_acc: 0.9998\n",
      "Epoch 41/50\n",
      "160000/160000 [==============================] - 0s 2us/step - loss: 0.0060 - acc: 0.9983 - val_loss: 8.6323e-04 - val_acc: 0.9998\n",
      "Epoch 42/50\n",
      "160000/160000 [==============================] - 0s 2us/step - loss: 0.0060 - acc: 0.9981 - val_loss: 6.8672e-04 - val_acc: 0.9998\n",
      "Epoch 43/50\n",
      "160000/160000 [==============================] - 0s 2us/step - loss: 0.0059 - acc: 0.9983 - val_loss: 6.3478e-04 - val_acc: 0.9998\n",
      "Epoch 44/50\n",
      "160000/160000 [==============================] - 0s 2us/step - loss: 0.0056 - acc: 0.9983 - val_loss: 5.9108e-04 - val_acc: 0.9998\n",
      "Epoch 45/50\n",
      "160000/160000 [==============================] - 0s 2us/step - loss: 0.0052 - acc: 0.9984 - val_loss: 5.1250e-04 - val_acc: 0.9998\n",
      "Epoch 46/50\n",
      "160000/160000 [==============================] - 0s 2us/step - loss: 0.0050 - acc: 0.9984 - val_loss: 4.5540e-04 - val_acc: 0.9998\n",
      "Epoch 47/50\n",
      "160000/160000 [==============================] - 0s 2us/step - loss: 0.0048 - acc: 0.9985 - val_loss: 4.0979e-04 - val_acc: 0.9998\n",
      "Epoch 48/50\n",
      "160000/160000 [==============================] - 0s 2us/step - loss: 0.0048 - acc: 0.9985 - val_loss: 3.9225e-04 - val_acc: 0.9998\n",
      "Epoch 49/50\n",
      "160000/160000 [==============================] - 0s 2us/step - loss: 0.0048 - acc: 0.9984 - val_loss: 4.0934e-04 - val_acc: 0.9998\n",
      "Epoch 50/50\n",
      "160000/160000 [==============================] - 0s 2us/step - loss: 0.0045 - acc: 0.9986 - val_loss: 3.2861e-04 - val_acc: 0.9998\n"
     ]
    }
   ],
   "source": [
    "###그림 8.25 DNN 모델 학습##################################################################\n",
    "\n",
    "tensorboard = keras.callbacks.TensorBoard(log_dir='D:/graph', histogram_freq=0, write_graph=True, write_images=True)\n",
    "\n",
    "hist  = model.fit(X_train, Y_train, batch_size=2000, epochs=50, callbacks=[tensorboard], validation_data=(X_test, Y_test))"
   ]
  },
  {
   "cell_type": "code",
   "execution_count": 24,
   "id": "registered-coordinate",
   "metadata": {},
   "outputs": [
    {
     "name": "stdout",
     "output_type": "stream",
     "text": [
      "['loss', 'acc']\n",
      "[0.00032860907282866947, 0.99985]\n"
     ]
    }
   ],
   "source": [
    "###그림 8.26 DNN 모델을 학습한 결과##################################################################\n",
    "\n",
    "score = model.evaluate(X_test, Y_test, verbose=0)\n",
    "print(model.metrics_names)\n",
    "print(score)"
   ]
  },
  {
   "cell_type": "code",
   "execution_count": 25,
   "id": "alleged-liquid",
   "metadata": {},
   "outputs": [
    {
     "data": {
      "image/png": "[encoded data removed]",
      "text/plain": [
       "<Figure size 432x288 with 2 Axes>"
      ]
     },
     "metadata": {
      "needs_background": "light"
     },
     "output_type": "display_data"
    }
   ],
   "source": [
    "###그림 8.27 DNN 모델의 학습 결과 시각화##################################################################\n",
    "\n",
    "fig, loss_ax = plt.subplots()\n",
    "acc_ax = loss_ax.twinx()\n",
    "\n",
    "loss_ax.plot(hist.history['loss'], 'y', label='train loss')\n",
    "loss_ax.plot(hist.history['val_loss'], 'r', label='val loss')\n",
    "acc_ax.plot(hist.history['acc'], 'b', label='train acc')\n",
    "acc_ax.plot(hist.history['val_acc'], 'g', label='val acc')\n",
    "\n",
    "loss_ax.set_xlabel('epoch')\n",
    "\n",
    "loss_ax.set_ylabel('loss')\n",
    "loss_ax.legend(loc='lower right')\n",
    "\n",
    "acc_ax.set_ylabel('accuracy')\n",
    "acc_ax.legend(loc='upper right')\n",
    "\n",
    "plt.show()"
   ]
  },
  {
   "cell_type": "code",
   "execution_count": 26,
   "id": "respiratory-transformation",
   "metadata": {},
   "outputs": [
    {
     "data": {
      "text/plain": [
       "<Figure size 432x288 with 0 Axes>"
      ]
     },
     "metadata": {},
     "output_type": "display_data"
    },
    {
     "data": {
      "image/png": "[encoded data removed]",
      "text/plain": [
       "<Figure size 648x504 with 1 Axes>"
      ]
     },
     "metadata": {
      "needs_background": "light"
     },
     "output_type": "display_data"
    }
   ],
   "source": [
    "###그림 8.28 DNN 모델 예측 결과 평가 – ROC 커브##################################################################\n",
    "\n",
    "y_predict_result = model.predict(X_test)\n",
    "\n",
    "fpr, tpr, thresholds = roc_curve (Y_test.ravel(), y_predict_result.ravel())\n",
    "roc_auc = auc(fpr, tpr)\n",
    "\n",
    "plt.clf()\n",
    "plt.figure(figsize = (9, 7))\n",
    "plt.plot(fpr, tpr, color='navy', lw=10, label='ROC Curve (AUC = %0.2f)' % roc_auc)\n",
    "plt.plot([0, 1], [0, 1], color='red', lw=2, linestyle='--')\n",
    "plt.xlim([0.0, 1.0])\n",
    "plt.ylim([0.0, 1.0])\n",
    "plt.rcParams['font.size'] = 12\n",
    "plt.title('[ ROC Curve ]')\n",
    "plt.xlabel('Specificity-False Positive Rate')\n",
    "plt.ylabel('Sensitivity-True Positive Rate')\n",
    "plt.legend(loc=\"lower right\")\n",
    "plt.grid(True)\n",
    "plt.show()"
   ]
  },
  {
   "cell_type": "code",
   "execution_count": 27,
   "id": "announced-retreat",
   "metadata": {},
   "outputs": [],
   "source": [
    "###그림 8.29 DNN 모델 저장##################################################################\n",
    "\n",
    "from keras.models import load_model\n",
    "\n",
    "model.save('D://models/smartcar_dnn_model.h5')pip install flask"
   ]
  },
  {
   "cell_type": "code",
   "execution_count": null,
   "id": "announced-material",
   "metadata": {},
   "outputs": [],
   "source": []
  }
 ],
 "metadata": {
  "kernelspec": {
   "display_name": "Python 3",
   "language": "python",
   "name": "python3"
  },
  "language_info": {
   "codemirror_mode": {
    "name": "ipython",
    "version": 3
   },
   "file_extension": ".py",
   "mimetype": "text/x-python",
   "name": "python",
   "nbconvert_exporter": "python",
   "pygments_lexer": "ipython3",
   "version": "3.5.6"
  }
 },
 "nbformat": 4,
 "nbformat_minor": 5
}
